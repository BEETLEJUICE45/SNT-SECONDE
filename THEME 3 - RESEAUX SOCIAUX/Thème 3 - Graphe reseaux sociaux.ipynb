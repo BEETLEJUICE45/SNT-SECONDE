{
 "cells": [
  {
   "cell_type": "markdown",
   "metadata": {},
   "source": [
    "# Codage en langage Python d’un graphe"
   ]
  },
  {
   "cell_type": "raw",
   "metadata": {},
   "source": [
    "Le code incomplet de ce graphe est donné ci-dessous :\n",
    "\n",
    "from networkx import nx,diameter,radius,center\n",
    "import matplotlib.pyplot as plt\n",
    "\n",
    "reseau_social=nx.Graph()\n",
    "\n",
    "reseau_social.add_node('Emma')\n",
    "reseau_social.add_node('Mehdi')\n",
    "reseau_social.add_node('Jasmine')\n",
    "\n",
    "reseau_social.add_edge('Emma','Enzo')\n",
    "reseau_social.add_edge('Mehdi','Théo')\n",
    "reseau_social.add_edge('Théo','Jasmine')\n",
    "\n",
    "nx.draw(reseau_social, with_labels=True)\n",
    "plt.draw()\n",
    "plt.show()"
   ]
  },
  {
   "cell_type": "markdown",
   "metadata": {},
   "source": [
    "Que signifie la commande reseau_social.add_node('Emma') ?"
   ]
  },
  {
   "cell_type": "code",
   "execution_count": null,
   "metadata": {},
   "outputs": [],
   "source": []
  },
  {
   "cell_type": "markdown",
   "metadata": {},
   "source": [
    "Que signifie la commande reseau_social.add_edge('Emma','Enzo') ?"
   ]
  },
  {
   "cell_type": "code",
   "execution_count": null,
   "metadata": {},
   "outputs": [],
   "source": []
  },
  {
   "cell_type": "markdown",
   "metadata": {},
   "source": [
    "Copiez le code, complétez le pour obtenir le graphe en entier et exécuter (cela peut prendre du temps avant de s'afficher...)"
   ]
  },
  {
   "cell_type": "code",
   "execution_count": null,
   "metadata": {},
   "outputs": [],
   "source": []
  },
  {
   "cell_type": "markdown",
   "metadata": {},
   "source": [
    "Pour afficher le nombre de sommets, d'arêtes, le diamètre, le centre et le rayon du graphe, ajoutez les commandes suivantes en fin de programme :\n",
    "\n",
    "print(\"nombre de sommets=\",reseau_social.number_of_nodes())\n",
    "\n",
    "print(\"nombre de arêtes=\",reseau_social.number_of_edges())\n",
    "\n",
    "print(\"Diamètre=\",diameter(reseau_social))\n",
    "\n",
    "print(\"Centre=\",center(reseau_social))\n",
    "\n",
    "print(\"Rayon=\",radius(reseau_social))"
   ]
  },
  {
   "cell_type": "code",
   "execution_count": null,
   "metadata": {},
   "outputs": [],
   "source": []
  },
  {
   "cell_type": "markdown",
   "metadata": {},
   "source": [
    "Comparez vos résultats avec votre théorie"
   ]
  },
  {
   "cell_type": "code",
   "execution_count": null,
   "metadata": {},
   "outputs": [],
   "source": []
  }
 ],
 "metadata": {
  "kernelspec": {
   "display_name": "Python 3",
   "language": "python",
   "name": "python3"
  },
  "language_info": {
   "codemirror_mode": {
    "name": "ipython",
    "version": 3
   },
   "file_extension": ".py",
   "mimetype": "text/x-python",
   "name": "python",
   "nbconvert_exporter": "python",
   "pygments_lexer": "ipython3",
   "version": "3.6.0"
  }
 },
 "nbformat": 4,
 "nbformat_minor": 2
}
