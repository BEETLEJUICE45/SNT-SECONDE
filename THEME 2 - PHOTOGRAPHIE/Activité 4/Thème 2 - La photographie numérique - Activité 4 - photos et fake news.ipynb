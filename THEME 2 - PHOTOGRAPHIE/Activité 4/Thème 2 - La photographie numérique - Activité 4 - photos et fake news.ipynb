{
 "cells": [
  {
   "cell_type": "markdown",
   "metadata": {},
   "source": [
    "# Activité 5 La manipulation d'images"
   ]
  },
  {
   "cell_type": "markdown",
   "metadata": {},
   "source": [
    "# 1 Les métadonnées"
   ]
  },
  {
   "cell_type": "markdown",
   "metadata": {},
   "source": [
    "## Question 1\n",
    "Executer le code ci-dessous"
   ]
  },
  {
   "cell_type": "code",
   "execution_count": null,
   "metadata": {},
   "outputs": [],
   "source": [
    "from IPython.display import Image\n",
    "from PIL import Image\n",
    "joconde=Image.open(\"./images/joconde.jpg\")\n",
    "exif_data = joconde._getexif()\n",
    "print(exif_data)"
   ]
  },
  {
   "cell_type": "markdown",
   "metadata": {},
   "source": [
    "<div class = \"alert alert-warning\">\n",
    "    \n",
    "## Lecture des métadonnées\n",
    "\n",
    "Chaque métadonnée comprend un identifiant appelé tag et une valeur. Par exemple, au début des données EXIFS  le tag 36864 correspond à la vesion EXIF et 0220 la version.\n",
    "\n",
    "Site de référence des tags exifs : [https://www.exiv2.org/tags.html](https://www.exiv2.org/tags.html)"
   ]
  },
  {
   "cell_type": "markdown",
   "metadata": {},
   "source": [
    " ### Question 1-1\n",
    " \n",
    " En vous aidant du site web cité ci-dessus, essayez de trouver les informations suivantes pour l'image \"joconde.jpg\" .\n",
    " \n",
    "1. la date et l'heure de la prise de vue\n",
    "2. la  résolution\n",
    "3. la marque de l'appareil photo\n",
    "\n",
    "Pour se répérer dans la page web , taper sur les touche ctrl + F , puis entrer la valeur du tag."
   ]
  },
  {
   "cell_type": "markdown",
   "metadata": {},
   "source": [
    "#### votre réponse : \n"
   ]
  },
  {
   "cell_type": "markdown",
   "metadata": {},
   "source": [
    "# 2 Truquage d'une photo : incruster une image dans une autre\n",
    "\n",
    "[source du document](https://tribu.phm.education.gouv.fr/toutatice-portail-cms-nuxeo/binary/Inscrustation+sur+fond+vert.pdf?type=FILE&path=%2Fdefault-domain%2Fworkspaces%2Fressources-snt-jbs%2Fdocuments%2F6-la-photographie%2F3-activites-branchees%2F3-incrustation-sur-fond%2Finscrustation-sur-fond&portalName=foad&liveState=true&fieldName=file:content&t=1578322697)"
   ]
  },
  {
   "cell_type": "markdown",
   "metadata": {},
   "source": [
    "<div class = \"alert alert-warning\">\n",
    "    \n",
    "L'incrustation est une technique d'effets visuels dans le domaine du cinéma et de la photo. Cela consiste à intégrer dans une même image par logiciel, des objets filmés séparément ou des objets 3D par ordinateur. Nous pouvons donc recréer des environnements irréels, ou placer un sujet dans une situation sans même bouger du studio. Dans la grande majorité des cas, on utilise un fond vert pour permettre aux logiciels de détacher les contours de l’objet que l’on cherche à incruster. \n",
    "<div class = \"alert alert-warning\">\n",
    "    \n",
    "###  Pourquoi le vert ?\n",
    "\n",
    "Avant la naissance de techniques numériques de pointe, c’était le bleu qui était utilisé, car il permettait d’avoir un minimum de grain et donc une meilleure lecture des détails. \n",
    "\n",
    "![image fond vert](./images/image-fond-vert.png)\n",
    "\n",
    "* Le vert s’est substitué au bleu, qui continue tout de même d’être utilisé dans de rares cas. \n",
    "* Le vert est la couleur la plus éloignée de celle de la peau humaine. Le vert permet donc à la peau des acteurs de bien se détacher du fond et donc à l’incrustation de pas déborder sur les visages des gens.\n",
    "* Les capteurs vidéo ont une sensibilité pour le vert. Comme ils la repèrent mieux, l’incrustation est du coup beaucoup plus précise. Aussi, grâce à cette grande sensibilité pour cette couleur, les fonds ont besoin de moins de lumière.  "
   ]
  },
  {
   "cell_type": "markdown",
   "metadata": {},
   "source": [
    "### Question 2\n",
    "En utilisant ce qui a été vu dans l'activité 4 (double boucle ```for``` , méthodes ```getpixels()``` et ```putpixels``` incruster l'image du moustique sur l'image de plage.\n",
    "Pour cela, on remplacera les pixels de l'image de la plage par les pixels de l'image du moustique à condition que les pixels sur l'image du moustique ne sont pas verts.\n",
    "![image truquée](./images/image-truquee.png)\n",
    "\n",
    "Compléter le programme ci-dessous en remplçant les 6 ? par ce qu'il faut."
   ]
  },
  {
   "cell_type": "code",
   "execution_count": null,
   "metadata": {},
   "outputs": [],
   "source": [
    "from IPython.display import Image\n",
    "from PIL import Image\n",
    "moustique = Image.open(\"./images/moustique-fond-vert.jpg\")\n",
    "plage = Image.open(\"./images/plage.jpg\")\n",
    "L,l = moustique.size #Reccupère la Largeur (L) et la hauteur (l) en pixel de l'image moustique\n",
    "for y in range(l): \n",
    "    for x in range(L):\n",
    "        r,v,b = moustique.getpixel((x,y)) #on reccupère les valeurs de RGB du pixel dans les variables r,v,b\n",
    "        d,e,f = plage.getpixel((x,y)) #on reccupère les valeurs de RGB du pixel dans les variables d,e,f\n",
    "        if v == 255 :\n",
    "            plage.putpixel((x,y),(?,?,?))\n",
    "        else:\n",
    "            plage.putpixel((x,y),(?,?,?))\n",
    "\n",
    "display(plage)"
   ]
  },
  {
   "cell_type": "code",
   "execution_count": null,
   "metadata": {},
   "outputs": [],
   "source": []
  }
 ],
 "metadata": {
  "kernelspec": {
   "display_name": "Python 3",
   "language": "python",
   "name": "python3"
  },
  "language_info": {
   "codemirror_mode": {
    "name": "ipython",
    "version": 3
   },
   "file_extension": ".py",
   "mimetype": "text/x-python",
   "name": "python",
   "nbconvert_exporter": "python",
   "pygments_lexer": "ipython3",
   "version": "3.7.2"
  }
 },
 "nbformat": 4,
 "nbformat_minor": 2
}
