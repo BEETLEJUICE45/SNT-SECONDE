{
 "cells": [
  {
   "cell_type": "markdown",
   "metadata": {},
   "source": [
    "#  theme 4 - La photographie numérique - Activité 3 - Codage des couleurs"
   ]
  },
  {
   "cell_type": "markdown",
   "metadata": {},
   "source": [
    "## Ce notebook vous donne les éléments de code python associés au document  \"Fonctionnement d'un appareil photo numérique : codage des couleurs\".\n",
    "\n",
    "Un notebook se lit de haut en bas. Toutes les cellules de code doivent être exécutées :\n",
    "- soit en cliquant sur le bouton \"Exécuter\" dans la barre d'outil\n",
    "- soit au clavier en tapant sur les touches MAJ + ENTREE  \n",
    "\n",
    "\n",
    "Pour récupérer votre travail sur votre ordinateur : menu File > Download As > Notebook (.ipynb)\n",
    "\n"
   ]
  },
  {
   "cell_type": "markdown",
   "metadata": {},
   "source": [
    "# 1  Codage d'une image en niveaux de gris"
   ]
  },
  {
   "cell_type": "markdown",
   "metadata": {},
   "source": [
    "##  Présentation\n",
    "\n",
    "<div class = \"alert alert-warning\">\n",
    "Une image en niveau de gris est une image dont les couleurs varient du blanc au noir.\n",
    "Chaque pixel est codé par le niveau de l’intensité lumineuse, souvent sur 8 bits ce qui donne 28 = 256 nuances de gris possibles, codées sur un nombre entier compris entre 0 et 255.\n",
    "La valeur 0 correspond à une intensité lumineuse nulle, le noir, tandis que la valeur 255 représente l’intensité lumineuse maximale, le blanc.\n",
    "\n",
    "<img src=\"./images/nuance-gris-image.png\"/>"
   ]
  },
  {
   "cell_type": "markdown",
   "metadata": {},
   "source": [
    "## Questions\n",
    "\n",
    "A l’aide de la documentation technique « Fonctionnalités du module Image de la bibliothèque PIL (Pillow) », répondre aux questions suivantes"
   ]
  },
  {
   "cell_type": "markdown",
   "metadata": {},
   "source": [
    "### 1-1 Exécuter et analyser le programme suivant à l'aide de la documentation technique"
   ]
  },
  {
   "cell_type": "code",
   "execution_count": null,
   "metadata": {},
   "outputs": [],
   "source": [
    "from IPython.display import Image\n",
    "from PIL import Image\n",
    "carre = Image.new(\"L\", (20, 20), 100)\n",
    "display(carre)"
   ]
  },
  {
   "cell_type": "markdown",
   "metadata": {},
   "source": [
    "### 1-2 En s'inspirant du programme 1-1, faites un programme dans les cases ci-dessous qui permet d’afficher un rectangle de définition 20 x 10 : \n",
    "\n",
    "    • de couleur noire ;\n",
    "    • puis de couleur grise (code de votre choix) ."
   ]
  },
  {
   "cell_type": "code",
   "execution_count": null,
   "metadata": {},
   "outputs": [],
   "source": [
    "# code pour rectangle noir à saisir ici\n"
   ]
  },
  {
   "cell_type": "code",
   "execution_count": null,
   "metadata": {},
   "outputs": [],
   "source": [
    "# code pour rectangle gris à saisir ici\n"
   ]
  },
  {
   "cell_type": "markdown",
   "metadata": {},
   "source": [
    "# 2  Codage en couleur"
   ]
  },
  {
   "cell_type": "markdown",
   "metadata": {},
   "source": [
    "<div class = \"alert alert-warning\">\n",
    "Pour reproduire toutes les couleurs, il suffit de 3 couleurs fondamentales : Rouge, Verte et Bleue\n",
    "C'est pour cela que chaque pixel d'une image informatique est divisé  en 3 sous pixels \n",
    "\n",
    "<img src=\"./images/pixel-rvb.png\"/>\n",
    "\n",
    "Il faut imaginer que l’on règle l’intensité de trois sources lumineuses R rouge, V verte et B bleue qui se mélangent pour donner la couleur résultante. \n",
    "\n",
    "L’intensité de chacune des trois sous pixels  est codée sur 8 bits (=1 octets)ce qui nous donne un codage de 0 à 255. \n",
    "\n",
    "Comme il y a 3 canaux, chaque pixel de l'image est codé sur 24 bits (=3 octets). C'est ce qu'on appelle la profondeur de couleur.\n",
    "\n",
    "Si on multiplie le nombre de pixels de l'image par la profondeur de couleur, on trouve la taille mémoire du fichier image\n",
    "\n",
    "Comme pour le noir et blanc, pour chacune des couches, plus le code est proche de zéro moins vous envoyez de lumière et plus le code est proche de 255 plus vous envoyez de lumière. (255,255,255) correspond à de la lumière blanche (tous les pixels allumés), (0,0,0) correspond à la couleur noire (tous les pixels éteints).\n",
    "\n",
    "Par exemple, le code (0,0,255) correspond à de la couleur bleue, (255,255,0) à de la couleur jaune"
   ]
  },
  {
   "cell_type": "markdown",
   "metadata": {},
   "source": [
    "## Question 2\n",
    "\n",
    "Utiliser le simulateur ci-dessous pour voir le principe de restitution des couleurs sur un écran qui est le même principe de rendu des couleurs sur les photos numériques\n",
    "\n",
    "\n",
    "Ce format de couleur n’est pas évident car l’aspect de la couleur résultante est parfois difficile à anticiper. Par exemple la couleur (214, 43, 183) qui correspond à une couleur rose. On trouve néanmoins sur internet pléthore de convertisseurs RGB, par exemple  : [couleurs rvb]( https://www.toutes-les-couleurs.com/code-couleur-rvb.php)\n"
   ]
  },
  {
   "cell_type": "code",
   "execution_count": 1,
   "metadata": {},
   "outputs": [
    {
     "data": {
      "text/html": [
       "\n",
       "        <iframe\n",
       "            width=\"950\"\n",
       "            height=\"500\"\n",
       "            src=\"https://physique-chimie.discip.ac-caen.fr/IMG/html/synthadd.html\"\n",
       "            frameborder=\"0\"\n",
       "            allowfullscreen\n",
       "        ></iframe>\n",
       "        "
      ],
      "text/plain": [
       "<IPython.lib.display.IFrame at 0x247b2c1f160>"
      ]
     },
     "execution_count": 1,
     "metadata": {},
     "output_type": "execute_result"
    }
   ],
   "source": [
    "#simulateur de la restitution des couleurs par un écran\n",
    "from IPython.display import IFrame\n",
    "IFrame('https://physique-chimie.discip.ac-caen.fr/IMG/html/synthadd.html', 950, 500)"
   ]
  },
  {
   "cell_type": "markdown",
   "metadata": {},
   "source": [
    "### 2-1 En s'inspirant du programme 1-1, faites un programme dans les cases ci-dessous qui permet d’afficher un rectangle de définition 20 x 10 de couleur jaune "
   ]
  },
  {
   "cell_type": "code",
   "execution_count": null,
   "metadata": {},
   "outputs": [],
   "source": [
    "# code pour rectangle jaune à saisir ici"
   ]
  },
  {
   "cell_type": "markdown",
   "metadata": {},
   "source": [
    "### 2-2 Exécuter et analyser le programme suivant à l'aide de la documentation technique"
   ]
  },
  {
   "cell_type": "code",
   "execution_count": null,
   "metadata": {},
   "outputs": [],
   "source": [
    "from utilitaires_images import *\n",
    "\n",
    "img = Image.new(\"RGB\",(2, 2)) \n",
    "img.putpixel((0,0),(0,255,0)) \n",
    "img.putpixel((1,0),(255,255,0))\n",
    "img.putpixel((0,1),(0,0,255))\n",
    "img.putpixel((1,1),(255,0,0))\n",
    "img_zoom = zoomer(img, 50) #on zoome l'image 50 fois car 2 x 2 pixels c'est petit !\n",
    "display(img_zoom)"
   ]
  },
  {
   "cell_type": "markdown",
   "metadata": {},
   "source": [
    "### 2-3 En s'inspirant du programme 2-2, faites un programme dans les cases ci-dessous qui permet de créer un carré 3x3 pixels colorés (couleurs au choix) et de zoomer l'image 40 fois"
   ]
  },
  {
   "cell_type": "code",
   "execution_count": null,
   "metadata": {},
   "outputs": [],
   "source": [
    "# code pour le carré 3x3 pixels  à saisir ici"
   ]
  },
  {
   "cell_type": "markdown",
   "metadata": {},
   "source": [
    "# 3 Effectuer des opérations pixel par pixel sur une grande zone"
   ]
  },
  {
   "cell_type": "markdown",
   "metadata": {},
   "source": [
    "<div class = \"alert alert-warning\">\n",
    "\n",
    "\n",
    "Jusque là on a travaillé en pixel par pixel , mais si on veut traiter une \"petite\" image de 400x300 pixels cela risque de prendre du temps (120 000 pixels tout de même).\n",
    "\n",
    "On peut utiliser une boucles `for` qui permet de parcourir une un ensemble de valeur. \n"
   ]
  },
  {
   "cell_type": "markdown",
   "metadata": {},
   "source": [
    "###  3-1 Exécuter et analyser ce qui se passe dans  les 3 programmes suivant"
   ]
  },
  {
   "cell_type": "code",
   "execution_count": null,
   "metadata": {},
   "outputs": [],
   "source": [
    "# code du programme 1 \n",
    "for i in range(5):\n",
    "      print (i)\n"
   ]
  },
  {
   "cell_type": "code",
   "execution_count": null,
   "metadata": {},
   "outputs": [],
   "source": [
    "# code du programme 2 \n",
    "for i in range(5,10):\n",
    "      print (i)"
   ]
  },
  {
   "cell_type": "code",
   "execution_count": null,
   "metadata": {},
   "outputs": [],
   "source": [
    "# code du programme 3 \n",
    "for i in range(0,10,3):\n",
    "      print (i)"
   ]
  },
  {
   "cell_type": "markdown",
   "metadata": {},
   "source": [
    "###  3-2 Ecrire le programme permettant de créer une série de nombre de nombres entiers de 0 à 20 de 4 en 4"
   ]
  },
  {
   "cell_type": "code",
   "execution_count": null,
   "metadata": {},
   "outputs": [],
   "source": [
    "# code du programme\n"
   ]
  },
  {
   "cell_type": "markdown",
   "metadata": {},
   "source": [
    "<div class = \"alert alert-warning\">\n",
    "Double boucle for\n",
    "\n",
    "On peut utiliser la méthode suivante qui permet de parcourir une zone rectangulaire de pixels grâce à deux boucles `for` \n",
    "\n",
    "```\n",
    "for x in range(xgauche, xdroit):\n",
    "    for y in range(yhaut, ybas):\n",
    "        faire ceci, cela sur le pixel de coordonnées (x, y)\n",
    "```\n",
    "\n",
    "qui peut se lire comme :\n",
    "\n",
    "```\n",
    "Pour chaque pixel(x, y) dans le rectangle compris entre xgauche et xdroit et entre yhaut et ybas:\n",
    "    faire ceci, cela sur le pixel de coordonnées (x, y)\n",
    "```"
   ]
  },
  {
   "cell_type": "markdown",
   "metadata": {},
   "source": [
    "### 3-3 Exécuter et analyser le programme suivant"
   ]
  },
  {
   "cell_type": "code",
   "execution_count": null,
   "metadata": {},
   "outputs": [],
   "source": [
    "image = Image.new('RGB', (500, 300), (0, 0, 0))\n",
    "\n",
    "for x in range(50, 450):\n",
    "    for y in range(200, 250):\n",
    "        image.putpixel((x,y), (255, 0, 0))\n",
    "        \n",
    "display(image)"
   ]
  },
  {
   "cell_type": "markdown",
   "metadata": {},
   "source": [
    "### 3-4 En s'inspirant du programme 3-3, coder le drapeau français\n",
    "<img src=\"./images/drapeau-français.png\"/>\n"
   ]
  },
  {
   "cell_type": "code",
   "execution_count": null,
   "metadata": {},
   "outputs": [],
   "source": [
    "# code du programme"
   ]
  },
  {
   "cell_type": "markdown",
   "metadata": {},
   "source": [
    "# 5 Traitement des images"
   ]
  },
  {
   "cell_type": "markdown",
   "metadata": {},
   "source": [
    "### 5-1 Compléter le programme ci-dessous à l'aide de la fiche technique pour afficher\n",
    "* la taille de l'image\n",
    "* le mode de couleur\n",
    "* le format de l'image"
   ]
  },
  {
   "cell_type": "code",
   "execution_count": null,
   "metadata": {},
   "outputs": [],
   "source": [
    "# code du programme à compléter\n",
    "image = Image.open('./images/moustique.jpg') #image noire au début"
   ]
  },
  {
   "cell_type": "markdown",
   "metadata": {},
   "source": [
    "### 5-2 Executer et analyser  le programme ci-dessous à l'aide de la fiche technique"
   ]
  },
  {
   "cell_type": "code",
   "execution_count": null,
   "metadata": {},
   "outputs": [],
   "source": [
    "from IPython.display import Image\n",
    "from PIL import Image\n",
    "pomme=Image.open(\"./images/Pomme_verte.jpg\")\n",
    "format=pomme.format\n",
    "print(format)\n",
    "L,l=pomme.size\n",
    "print(\"Longueur=\",L,\"pixels\",\"largeur=\",l,\"pixels\")\n",
    "r,v,b=pomme.getpixel((200,200))\n",
    "print (\"pixel rouge \",r,\"pixel vert\",v,\"pixel bleu\",b)"
   ]
  },
  {
   "cell_type": "markdown",
   "metadata": {},
   "source": [
    "### 5-3 Compléter le code pour afficher la valeur du canal vert du pixel de coordonnées (100,100)"
   ]
  },
  {
   "cell_type": "code",
   "execution_count": null,
   "metadata": {},
   "outputs": [],
   "source": [
    "# code du programme à compléter\n",
    "from IPython.display import Image\n",
    "from PIL import Image\n",
    "pomme=Image.open(\"./images/Pomme_verte.jpg\")"
   ]
  },
  {
   "cell_type": "markdown",
   "metadata": {},
   "source": [
    "### 5-3 Changer la couleur d'une image\n",
    "\n",
    "Executer et analyser  le programme ci-dessous"
   ]
  },
  {
   "cell_type": "code",
   "execution_count": null,
   "metadata": {},
   "outputs": [],
   "source": [
    "from IPython.display import Image\n",
    "from PIL import Image\n",
    "pomme=Image.open(\"./images/Pomme_verte.jpg\")\n",
    "L,l=pomme.size\n",
    "for y in range(l): \n",
    "    for x in range(L):\n",
    "        r,v,b=pomme.getpixel((x,y))\n",
    "        pomme.putpixel((x,y),(r,0,0))\n",
    "display(pomme)"
   ]
  },
  {
   "cell_type": "markdown",
   "metadata": {},
   "source": [
    "En s'inspirant du programme 5-3, compléter le programme ci-dessous  pour que seuls les canaux rouge et vert de l'image soient actifs"
   ]
  },
  {
   "cell_type": "code",
   "execution_count": null,
   "metadata": {},
   "outputs": [],
   "source": [
    "# code du programme à compléter\n",
    "from IPython.display import Image\n",
    "from PIL import Image\n",
    "pomme=Image.open(\"./images/Pomme_verte.jpg\")"
   ]
  },
  {
   "cell_type": "markdown",
   "metadata": {},
   "source": [
    "### 5-4 Effet négatif d’une image"
   ]
  },
  {
   "cell_type": "markdown",
   "metadata": {},
   "source": [
    "<div class = \"alert alert-warning\">\n",
    "Pour obtenir le négatif d’une image il faut remplacer chacun des canaux par la valeur qu’il faudrait lui ajouter pour atteindre 255. Par exemple si le canal rouge vaut 100, il faut la remplacer par 255-100 soit la valeur 155."
   ]
  },
  {
   "cell_type": "markdown",
   "metadata": {},
   "source": [
    "En s'inspirant du programme 5-3, compléter le progamme ci-dessous permettant d'afficher le négatif de l'image de la pomme"
   ]
  },
  {
   "cell_type": "code",
   "execution_count": null,
   "metadata": {},
   "outputs": [],
   "source": [
    "# code du programme à compléter\n",
    "from IPython.display import Image\n",
    "from PIL import Image\n",
    "pomme=Image.open(\"./images/Pomme_verte.jpg\")"
   ]
  }
 ],
 "metadata": {
  "kernelspec": {
   "display_name": "Python 3",
   "language": "python",
   "name": "python3"
  },
  "language_info": {
   "codemirror_mode": {
    "name": "ipython",
    "version": 3
   },
   "file_extension": ".py",
   "mimetype": "text/x-python",
   "name": "python",
   "nbconvert_exporter": "python",
   "pygments_lexer": "ipython3",
   "version": "3.7.2"
  }
 },
 "nbformat": 4,
 "nbformat_minor": 4
}
